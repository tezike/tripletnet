{
 "cells": [
  {
   "cell_type": "code",
   "execution_count": null,
   "metadata": {},
   "outputs": [],
   "source": [
    "#default_exp run"
   ]
  },
  {
   "cell_type": "code",
   "execution_count": null,
   "metadata": {},
   "outputs": [],
   "source": [
    "#export\n",
    "import os\n",
    "\n",
    "import numpy as np\n",
    "\n",
    "import torch\n",
    "import torch.nn as nn\n",
    "import torch.functional as F\n",
    "import torchvision.models as models\n",
    "from torchvision import transforms  #TODO: Use albumentations\n",
    "\n",
    "from tripletnet.models.conditionalnet import *\n",
    "from tripletnet.models.tripletnet import *\n",
    "from tripletnet.dataset.loader import *\n",
    "from tripletnet import get_data"
   ]
  },
  {
   "cell_type": "code",
   "execution_count": null,
   "metadata": {},
   "outputs": [
    {
     "data": {
      "text/plain": [
       "'tripletnet/data/filenames.json'"
      ]
     },
     "execution_count": null,
     "metadata": {},
     "output_type": "execute_result"
    }
   ],
   "source": [
    "#hide\n",
    "os.path.join('tripletnet', 'data', 'filenames.json')"
   ]
  },
  {
   "cell_type": "code",
   "execution_count": null,
   "metadata": {},
   "outputs": [
    {
     "data": {
      "text/plain": [
       "['heel_tripletlist_val.txt',\n",
       " 'heel_tripletlist_train.txt',\n",
       " 'class_tripletlist_train.txt',\n",
       " 'gender_tripletlist_train.txt',\n",
       " 'closure_tripletlist_val.txt',\n",
       " 'gender_tripletlist_test.txt',\n",
       " 'closure_tripletlist_train.txt',\n",
       " 'gender_tripletlist_val.txt',\n",
       " 'heel_tripletlist_test.txt',\n",
       " 'closure_tripletlist_test.txt',\n",
       " 'class_tripletlist_val.txt',\n",
       " 'class_tripletlist_test.txt']"
      ]
     },
     "execution_count": null,
     "metadata": {},
     "output_type": "execute_result"
    }
   ],
   "source": [
    "#hide\n",
    "os.listdir(os.path.join('data', 'tripletlists'))"
   ]
  },
  {
   "cell_type": "code",
   "execution_count": null,
   "metadata": {},
   "outputs": [],
   "source": [
    "#export\n",
    "resnet18 = models.resnet18(pretrained=True)"
   ]
  },
  {
   "cell_type": "code",
   "execution_count": null,
   "metadata": {},
   "outputs": [],
   "source": [
    "#export\n",
    "normalize = transforms.Normalize(mean=[0.485, 0.456, 0.406],\n",
    "                                     std=[0.229, 0.224, 0.225])"
   ]
  },
  {
   "cell_type": "code",
   "execution_count": null,
   "metadata": {},
   "outputs": [],
   "source": []
  }
 ],
 "metadata": {
  "kernelspec": {
   "display_name": "Python 3",
   "language": "python",
   "name": "python3"
  }
 },
 "nbformat": 4,
 "nbformat_minor": 2
}
