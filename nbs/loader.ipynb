{
 "cells": [
  {
   "cell_type": "code",
   "execution_count": 2,
   "metadata": {},
   "outputs": [],
   "source": [
    "# default_exp data.loader"
   ]
  },
  {
   "cell_type": "code",
   "execution_count": 3,
   "metadata": {},
   "outputs": [],
   "source": [
    "# export\n",
    "from PIL import Image\n",
    "import os\n",
    "import os.path\n",
    "import torch.utils.data\n",
    "import torchvision.transforms as transforms\n",
    "import numpy as np"
   ]
  },
  {
   "cell_type": "code",
   "execution_count": 4,
   "metadata": {},
   "outputs": [],
   "source": [
    "#export\n",
    "filenames = {'train': ['class_tripletlist_train.txt', 'closure_tripletlist_train.txt', \n",
    "                'gender_tripletlist_train.txt', 'heel_tripletlist_train.txt'],\n",
    "             'val': ['class_tripletlist_val.txt', 'closure_tripletlist_val.txt', \n",
    "                'gender_tripletlist_val.txt', 'heel_tripletlist_val.txt'],\n",
    "             'test': ['class_tripletlist_test.txt', 'closure_tripletlist_test.txt', \n",
    "                'gender_tripletlist_test.txt', 'heel_tripletlist_test.txt']}\n",
    "\n",
    "def default_image_loader(path):\n",
    "    return Image.open(path).convert('RGB')\n",
    "\n",
    "class TripletImageLoader(torch.utils.data.Dataset):\n",
    "    def __init__(self, root, base_path, filenames_filename, conditions, split, n_triplets, transform=None,\n",
    "                 loader=default_image_loader):\n",
    "        \"\"\" filenames_filename: A text file with each line containing the path to an image e.g.,\n",
    "                images/class1/sample.jpg\n",
    "            triplets_file_name: A text file with each line containing three integers, \n",
    "                where integer i refers to the i-th image in the filenames file. \n",
    "                For a line of intergers 'a b c', a triplet is defined such that image a is more \n",
    "                similar to image c than it is to image b, e.g., \n",
    "                0 2017 42 \"\"\"\n",
    "        self.root = root\n",
    "        self.base_path = base_path  \n",
    "        self.filenamelist = []\n",
    "        for line in open(os.path.join(self.root, filenames_filename)):\n",
    "            self.filenamelist.append(line.rstrip('\\n'))\n",
    "        triplets = []\n",
    "        if split == 'train':\n",
    "            fnames = filenames['train']\n",
    "        elif split == 'val':\n",
    "            fnames = filenames['val']\n",
    "        else:\n",
    "            fnames = filenames['test']\n",
    "        for condition in conditions:\n",
    "            for line in open(os.path.join(self.root, 'tripletlists', fnames[condition])):\n",
    "                triplets.append((line.split()[0], line.split()[1], line.split()[2], condition)) # anchor, far, close   \n",
    "        # print(triplets[:100])   \n",
    "        np.random.shuffle(triplets)\n",
    "        # print(triplets[:100])  \n",
    "        self.triplets = triplets[:int(n_triplets * 1.0 * len(conditions) / 4)]\n",
    "        self.transform = transform\n",
    "        self.loader = loader\n",
    "\n",
    "    def __getitem__(self, index):\n",
    "        path1, path2, path3, c = self.triplets[index]\n",
    "        if os.path.exists(os.path.join(self.root, self.base_path, self.filenamelist[int(path1)])) and os.path.exists(os.path.join(self.root, self.base_path, self.filenamelist[int(path1)])) and os.path.exists(os.path.join(self.root, self.base_path, self.filenamelist[int(path1)])):\n",
    "            img1 = self.loader(os.path.join(self.root, self.base_path, self.filenamelist[int(path1)]))\n",
    "            img2 = self.loader(os.path.join(self.root, self.base_path, self.filenamelist[int(path2)]))\n",
    "            img3 = self.loader(os.path.join(self.root, self.base_path, self.filenamelist[int(path3)]))\n",
    "            if self.transform is not None:\n",
    "                img1 = self.transform(img1)\n",
    "                img2 = self.transform(img2)\n",
    "                img3 = self.transform(img3)\n",
    "            return img1, img2, img3, c\n",
    "        else:\n",
    "            return None\n",
    "\n",
    "    def __len__(self):\n",
    "        return len(self.triplets)"
   ]
  },
  {
   "cell_type": "code",
   "execution_count": null,
   "metadata": {},
   "outputs": [],
   "source": []
  }
 ],
 "metadata": {
  "kernelspec": {
   "display_name": "Python 3",
   "language": "python",
   "name": "python3"
  },
  "language_info": {
   "codemirror_mode": {
    "name": "ipython",
    "version": 3
   },
   "file_extension": ".py",
   "mimetype": "text/x-python",
   "name": "python",
   "nbconvert_exporter": "python",
   "pygments_lexer": "ipython3",
   "version": "3.6.9"
  }
 },
 "nbformat": 4,
 "nbformat_minor": 2
}
