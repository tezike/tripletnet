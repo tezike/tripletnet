{
 "cells": [
  {
   "cell_type": "code",
   "execution_count": 1,
   "metadata": {},
   "outputs": [],
   "source": [
    "# default_exp models.conditionalnet"
   ]
  },
  {
   "cell_type": "markdown",
   "metadata": {},
   "source": [
    "# Implementation of a conditional similarity network"
   ]
  },
  {
   "cell_type": "code",
   "execution_count": 53,
   "metadata": {},
   "outputs": [],
   "source": [
    "#export\n",
    "import numpy as np\n",
    "import torch\n",
    "import torch.nn as nn\n",
    "import torchvision.models as models"
   ]
  },
  {
   "cell_type": "code",
   "execution_count": 55,
   "metadata": {},
   "outputs": [
    {
     "name": "stderr",
     "output_type": "stream",
     "text": [
      "Downloading: \"https://download.pytorch.org/models/resnet18-5c106cde.pth\" to /root/.cache/torch/hub/checkpoints/resnet18-5c106cde.pth\n"
     ]
    },
    {
     "data": {
      "application/vnd.jupyter.widget-view+json": {
       "model_id": "673bf0f7b68b42e2867b682bfa34521a",
       "version_major": 2,
       "version_minor": 0
      },
      "text/plain": [
       "HBox(children=(FloatProgress(value=0.0, max=46827520.0), HTML(value='')))"
      ]
     },
     "metadata": {},
     "output_type": "display_data"
    },
    {
     "name": "stdout",
     "output_type": "stream",
     "text": [
      "\n"
     ]
    }
   ],
   "source": [
    "#export\n",
    "resnet18 = models.resnet18(pretrained=True)"
   ]
  },
  {
   "cell_type": "code",
   "execution_count": 6,
   "metadata": {},
   "outputs": [],
   "source": [
    "#export\n",
    "class ConditionalSimNet(nn.Module):\n",
    "    def __init__(self, emb_extractor, num_sim_condition, embedding_size, learned_mask=True):\n",
    "        \"\"\"\n",
    "        emb_extractor: base model that extracts the embeddings from the network\n",
    "        num_sim_condition: number of similarity conditions being considered\n",
    "        embedding_size: size of the mask. Must be that same size as the output from `emb_extractor`\n",
    "        learned_mask: flag to know if the conditional mask should be learned/adjusted during training\n",
    "        \"\"\"\n",
    "        \n",
    "        super(ConditionalSimNet, self).__init__()\n",
    "        self.emb_extractor = emb_extractor\n",
    "        self.learned_mask = learned_mask\n",
    "        \n",
    "        if learned_mask:\n",
    "            self.masks = nn.Embedding(num_sim_condition, embedding_size)\n",
    "            #use a normal distribution to init the weights\n",
    "            self.masks.weight.data.normal_(0.9, 0.7)\n",
    "            \n",
    "        else:\n",
    "            self.masks = nn.Embedding(num_sim_condition, embedding_size)\n",
    "            \n",
    "            # use equal spacing in the embedding space to define the masks\n",
    "            mask_array = np.zeros([n_conditions, embedding_size])\n",
    "            mask_len = int(embedding_size / n_conditions)\n",
    "            \n",
    "            for i in range(n_conditions):\n",
    "                mask_array[i, i*mask_len:(i+1)*mask_len] = 1\n",
    "            # no gradients for the masks\n",
    "            self.masks.weight = torch.nn.Parameter(torch.Tensor(mask_array), requires_grad=False)\n",
    "    \n",
    "    def forward(self, inp, sim_condition):\n",
    "        embedding = self.emb_extractor(inp)\n",
    "        mask = self.masks(sim_condition)\n",
    "        if self.learned_mask:\n",
    "            # set the embeddings to fall between 0 and 1\n",
    "            masked_embedding = embedding * mask\n",
    "        return masked_embedding, mask.norm(1), embedding.norm(2), masked_embedding.norm(2)"
   ]
  },
  {
   "cell_type": "code",
   "execution_count": 9,
   "metadata": {},
   "outputs": [
    {
     "data": {
      "text/plain": [
       "tensor([[0.6983, 0.7668, 0.1128],\n",
       "        [0.6742, 0.4703, 0.9971]])"
      ]
     },
     "execution_count": 9,
     "metadata": {},
     "output_type": "execute_result"
    }
   ],
   "source": [
    "# hide\n",
    "c = torch.rand(2, 3); c"
   ]
  },
  {
   "cell_type": "code",
   "execution_count": 34,
   "metadata": {},
   "outputs": [
    {
     "data": {
      "text/html": [
       "<img src=\"https://miro.medium.com/max/2546/1*zMLv7EHYtjfr94JOBzjqTA.png\" width=\"500\" height=\"500\"/>"
      ],
      "text/plain": [
       "<IPython.core.display.Image object>"
      ]
     },
     "execution_count": 34,
     "metadata": {},
     "output_type": "execute_result"
    }
   ],
   "source": [
    "# hide\n",
    "from IPython.display import Image\n",
    "Image(url= \"https://miro.medium.com/max/2546/1*zMLv7EHYtjfr94JOBzjqTA.png\", width=500, height=500)"
   ]
  },
  {
   "cell_type": "code",
   "execution_count": 54,
   "metadata": {},
   "outputs": [
    {
     "name": "stdout",
     "output_type": "stream",
     "text": [
      "[tensor(0.6983), tensor(0.7668), tensor(0.1128), tensor(0.6742), tensor(0.4703), tensor(0.9971)]\n"
     ]
    }
   ],
   "source": [
    "# hide\n",
    "print([c_ for c_ in c.flatten()])"
   ]
  },
  {
   "cell_type": "code",
   "execution_count": 49,
   "metadata": {},
   "outputs": [
    {
     "name": "stdout",
     "output_type": "stream",
     "text": [
      "L2 regularization \n",
      "\n",
      "tensor(1.6608)\n",
      "tensor(1.6608)\n"
     ]
    }
   ],
   "source": [
    "# hide\n",
    "print(\"L2 regularization \\n\")\n",
    "print(torch.tensor([c_ ** 2 for c_ in c.flatten()]).sum().sqrt())\n",
    "print(c.norm(2))"
   ]
  },
  {
   "cell_type": "code",
   "execution_count": 52,
   "metadata": {},
   "outputs": [
    {
     "name": "stdout",
     "output_type": "stream",
     "text": [
      "L1 regularization \n",
      "\n",
      "tensor(3.7195)\n",
      "tensor(3.7195)\n"
     ]
    }
   ],
   "source": [
    "# hide\n",
    "print(\"L1 regularization \\n\")\n",
    "print(torch.tensor([c_.abs() for c_ in c.flatten()]).sum())\n",
    "print(c.norm(1))"
   ]
  }
 ],
 "metadata": {
  "kernelspec": {
   "display_name": "Python 3",
   "language": "python",
   "name": "python3"
  },
  "language_info": {
   "codemirror_mode": {
    "name": "ipython",
    "version": 3
   },
   "file_extension": ".py",
   "mimetype": "text/x-python",
   "name": "python",
   "nbconvert_exporter": "python",
   "pygments_lexer": "ipython3",
   "version": "3.6.9"
  }
 },
 "nbformat": 4,
 "nbformat_minor": 2
}
