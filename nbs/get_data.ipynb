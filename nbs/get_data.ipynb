{
 "cells": [
  {
   "cell_type": "code",
   "execution_count": 1,
   "metadata": {},
   "outputs": [],
   "source": [
    "# default_exp get_data"
   ]
  },
  {
   "cell_type": "code",
   "execution_count": null,
   "metadata": {},
   "outputs": [],
   "source": [
    "#export\n",
    "import urllib.request\n",
    "import os\n",
    "import os.path\n",
    "import zipfile"
   ]
  },
  {
   "cell_type": "code",
   "execution_count": null,
   "metadata": {},
   "outputs": [],
   "source": [
    "#export\n",
    "if not os.path.exists(os.path.join('data')):\n",
    "    os.makedirs('data')"
   ]
  },
  {
   "cell_type": "code",
   "execution_count": null,
   "metadata": {},
   "outputs": [],
   "source": [
    "#export\n",
    "if os.path.exists(os.path.join('data', 'ut-zap50k-images')):\n",
    "    pass\n",
    "else:\n",
    "    urllib.request.urlretrieve(\"http://vision.cs.utexas.edu/projects/finegrained/utzap50k/ut-zap50k-images.zip\", filename=\"data/ut-zap50k-imgs.zip\")\n",
    "    zip_ref = zipfile.ZipFile(\"data/ut-zap50k-imgs.zip\", 'r')\n",
    "    zip_ref.extractall(\"data\")\n",
    "    zip_ref.close()\n",
    "    os.remove(\"data/ut-zap50k-imgs.zip\")"
   ]
  },
  {
   "cell_type": "code",
   "execution_count": null,
   "metadata": {},
   "outputs": [],
   "source": [
    "#export\n",
    "if os.path.exists(os.path.join('data', 'tripletlists')):\n",
    "    pass\n",
    "else:    \n",
    "    urllib.request.urlretrieve(\"https://vision.cornell.edu/se3/wp-content/uploads/2019/05/csn_zappos_triplets.zip\", filename=\"data/triplets.zip\")\n",
    "    zip_ref = zipfile.ZipFile(\"data/triplets.zip\", 'r')\n",
    "    zip_ref.extractall(\"data\")\n",
    "    zip_ref.close()\n",
    "    os.remove(\"data/triplets.zip\")"
   ]
  }
 ],
 "metadata": {
  "kernelspec": {
   "display_name": "Python 3",
   "language": "python",
   "name": "python3"
  },
  "language_info": {
   "codemirror_mode": {
    "name": "ipython",
    "version": 3
   },
   "file_extension": ".py",
   "mimetype": "text/x-python",
   "name": "python",
   "nbconvert_exporter": "python",
   "pygments_lexer": "ipython3",
   "version": "3.6.9"
  }
 },
 "nbformat": 4,
 "nbformat_minor": 2
}
